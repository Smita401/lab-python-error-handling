{
 "cells": [
  {
   "cell_type": "markdown",
   "id": "25d7736c-ba17-4aff-b6bb-66eba20fbf4e",
   "metadata": {},
   "source": [
    "# Lab | Error Handling"
   ]
  },
  {
   "cell_type": "markdown",
   "id": "bc99b386-7508-47a0-bcdb-d969deaf6c8b",
   "metadata": {},
   "source": [
    "## Exercise: Error Handling for Managing Customer Orders\n",
    "\n",
    "The implementation of your code for managing customer orders assumes that the user will always enter a valid input. \n",
    "\n",
    "For example, we could modify the `initialize_inventory` function to include error handling.\n",
    "   - If the user enters an invalid quantity (e.g., a negative value or a non-numeric value), display an error message and ask them to re-enter the quantity for that product.\n",
    "   - Use a try-except block to handle the error and continue prompting the user until a valid quantity is entered.\n",
    "\n",
    "```python\n",
    "# Step 1: Define the function for initializing the inventory with error handling\n",
    "def initialize_inventory(products):\n",
    "    inventory = {}\n",
    "    for product in products:\n",
    "        valid_quantity = False\n",
    "        while not valid_quantity:\n",
    "            try:\n",
    "                quantity = int(input(f\"Enter the quantity of {product}s available: \"))\n",
    "                if quantity < 0:\n",
    "                    raise ValueError(\"Invalid quantity! Please enter a non-negative value.\")\n",
    "                valid_quantity = True\n",
    "            except ValueError as error:\n",
    "                print(f\"Error: {error}\")\n",
    "        inventory[product] = quantity\n",
    "    return inventory\n",
    "\n",
    "# Or, in another way:\n",
    "\n",
    "def initialize_inventory(products):\n",
    "    inventory = {}\n",
    "    for product in products:\n",
    "        valid_input = False\n",
    "        while not valid_input:\n",
    "            try:\n",
    "                quantity = int(input(f\"Enter the quantity of {product}s available: \"))\n",
    "                if quantity >= 0:\n",
    "                    inventory[product] = quantity\n",
    "                    valid_input = True\n",
    "                else:\n",
    "                    print(\"Quantity cannot be negative. Please enter a valid quantity.\")\n",
    "            except ValueError:\n",
    "                print(\"Invalid input. Please enter a valid quantity.\")\n",
    "    return inventory\n",
    "```\n",
    "\n",
    "Let's enhance your code by implementing error handling to handle invalid inputs.\n",
    "\n",
    "Follow the steps below to complete the exercise:\n",
    "\n",
    "2. Modify the `calculate_total_price` function to include error handling.\n",
    "   - If the user enters an invalid price (e.g., a negative value or a non-numeric value), display an error message and ask them to re-enter the price for that product.\n",
    "   - Use a try-except block to handle the error and continue prompting the user until a valid price is entered.\n",
    "\n",
    "3. Modify the `get_customer_orders` function to include error handling.\n",
    "   - If the user enters an invalid number of orders (e.g., a negative value or a non-numeric value), display an error message and ask them to re-enter the number of orders.\n",
    "   - If the user enters an invalid product name (e.g., a product name that is not in the inventory), or that doesn't have stock available, display an error message and ask them to re-enter the product name. *Hint: you will need to pass inventory as a parameter*\n",
    "   - Use a try-except block to handle the error and continue prompting the user until a valid product name is entered.\n",
    "\n",
    "4. Test your code by running the program and deliberately entering invalid quantities and product names. Make sure the error handling mechanism works as expected.\n"
   ]
  },
  {
   "cell_type": "code",
   "execution_count": 26,
   "id": "f448531d",
   "metadata": {},
   "outputs": [],
   "source": [
    "products = [\"t-shirt\", \"mug\", \"hat\", \"book\", \"keychain\"]"
   ]
  },
  {
   "cell_type": "code",
   "execution_count": 27,
   "id": "6b9cc416",
   "metadata": {},
   "outputs": [],
   "source": [
    "# Step 1: Define the function for initializing the inventory with error handling\n",
    "def initialize_inventory(products):\n",
    "    inventory = {}\n",
    "    for product in products:\n",
    "        valid_input = False\n",
    "        while not valid_input:\n",
    "            try:\n",
    "                quantity = int(input(f\"Enter the quantity of {product}s available: \"))\n",
    "                if quantity >= 0:\n",
    "                    inventory[product] = quantity\n",
    "                    valid_input = True\n",
    "                else:\n",
    "                    print(\"Quantity cannot be negative. Please enter a valid quantity.\")\n",
    "            except ValueError:\n",
    "                print(\"Invalid input. Please enter a valid quantity.\")\n",
    "    return inventory"
   ]
  },
  {
   "cell_type": "code",
   "execution_count": 28,
   "id": "8a42cbe6",
   "metadata": {},
   "outputs": [],
   "source": [
    "# Function defined previously to get customer orders\n",
    "\n",
    "def get_customer_orders():\n",
    "    num_orders = int(input(\"Enter the number of customer orders: \"))\n",
    "    customer_orders = {input(f\"Enter the name of a product that a customer wants to order : \") for i in range(num_orders)}\n",
    "    return customer_orders\n",
    "\n",
    "# Function defined previously to update inventory and print updated inventory\n",
    "\n",
    "def update_inventory(customer_orders, inventory):\n",
    "    inventory = {product: quantity - 1 if product in customer_orders else quantity for product, quantity in inventory.items() if product not in customer_orders or quantity > 1}\n",
    "    return inventory\n",
    "\n",
    "def print_updated_inventory(inventory):\n",
    "    print(\"Updated Inventory:\")\n",
    "    [print(f\"{product}: {quantity}\") for product, quantity in inventory.items()]"
   ]
  },
  {
   "cell_type": "code",
   "execution_count": 30,
   "id": "d31ae550",
   "metadata": {},
   "outputs": [
    {
     "name": "stdout",
     "output_type": "stream",
     "text": [
      "Enter the quantity of t-shirts available: 5\n",
      "Enter the quantity of mugs available: 4\n",
      "Enter the quantity of hats available: 3\n",
      "Enter the quantity of books available: 2\n",
      "Enter the quantity of keychains available: 1\n",
      "\n",
      "\n",
      "Enter the number of customer orders: 2\n",
      "Enter the name of a product that a customer wants to order : mug\n",
      "Enter the name of a product that a customer wants to order : keychain\n",
      "\n",
      "\n",
      "Updated Inventory:\n",
      "t-shirt: 5\n",
      "mug: 3\n",
      "hat: 3\n",
      "book: 2\n",
      "\n",
      "\n"
     ]
    }
   ],
   "source": [
    "# list of products\n",
    "products = [\"t-shirt\", \"mug\", \"hat\", \"book\", \"keychain\"]\n",
    "\n",
    "# initialize inventory\n",
    "inventory = initialize_inventory(products)\n",
    "print('\\n')\n",
    "\n",
    "# get customer orders without error handling\n",
    "customer_orders = get_customer_orders()\n",
    "print('\\n')\n",
    "\n",
    "# update inventory and print updated inventory\n",
    "inventory = update_inventory(customer_orders, inventory)\n",
    "print_updated_inventory(inventory)\n",
    "print('\\n')"
   ]
  },
  {
   "cell_type": "markdown",
   "id": "5875c82c",
   "metadata": {},
   "source": [
    "2. Modify the `calculate_total_price` function to include error handling.\n",
    "   - If the user enters an invalid price (e.g., a negative value or a non-numeric value), display an error message and ask them to re-enter the price for that product.\n",
    "   - Use a try-except block to handle the error and continue prompting the user until a valid price is entered."
   ]
  },
  {
   "cell_type": "code",
   "execution_count": 31,
   "id": "67d5599e",
   "metadata": {},
   "outputs": [],
   "source": [
    "# Step 2 : Modify the function to calculate total price with error handling\n",
    "\n",
    "def calculate_total_price(customer_orders):\n",
    "    total_price = 0\n",
    "    for product in customer_orders:\n",
    "        valid_input = False\n",
    "        while not valid_input:\n",
    "            try:\n",
    "                price_of_product = float(input(f\"Enter the price of the {product} : \"))\n",
    "                if price_of_product >= 0:\n",
    "                    total_price += price_of_product\n",
    "                    valid_input = True\n",
    "                else:\n",
    "                    print(\"Quantity cannot be negative. Please enter a valid price.\")\n",
    "            except ValueError:\n",
    "                print(\"Invalid input. Please enter a valid price.\")\n",
    "    return total_price"
   ]
  },
  {
   "cell_type": "markdown",
   "id": "3ada533a",
   "metadata": {},
   "source": [
    "3. Modify the `get_customer_orders` function to include error handling.\n",
    "   - If the user enters an invalid number of orders (e.g., a negative value or a non-numeric value), display an error message and ask them to re-enter the number of orders.\n",
    "   - If the user enters an invalid product name (e.g., a product name that is not in the inventory), or that doesn't have stock available, display an error message and ask them to re-enter the product name. *Hint: you will need to pass inventory as a parameter*\n",
    "   - Use a try-except block to handle the error and continue prompting the user until a valid product name is entered."
   ]
  },
  {
   "cell_type": "code",
   "execution_count": 32,
   "id": "caf5e815",
   "metadata": {},
   "outputs": [],
   "source": [
    "# Modify the function to get customer orders with error handling\n",
    "\n",
    "def get_customer_orders(inventory):\n",
    "    while True:\n",
    "        try:\n",
    "            num_orders = int(input(\"Enter the number of customer orders: \"))\n",
    "\n",
    "            if num_orders <= 0:\n",
    "                print(\"Quantity cannot be zero or negative. Please enter a valid number of orders.\")\n",
    "                continue  # Restart the loop if the quantity is invalid\n",
    "\n",
    "            customer_orders = {}\n",
    "\n",
    "            for i in range(num_orders):\n",
    "                valid_product = False\n",
    "                while not valid_product:\n",
    "                    product_name = input(\"Enter the name of a product that a customer wants to order: \")\n",
    "\n",
    "                    if product_name in inventory:\n",
    "                        if inventory[product_name] > 0:\n",
    "                            valid_product = True\n",
    "                            valid_quantity = False\n",
    "\n",
    "                            while not valid_quantity:\n",
    "                                try:\n",
    "                                    quantity = int(input(f\"Enter the quantity of {product_name} the customer wants to order: \"))\n",
    "\n",
    "                                    if quantity < 0:\n",
    "                                        print(\"Quantity cannot be negative. Please enter a valid quantity.\")\n",
    "                                    elif quantity > inventory[product_name]:\n",
    "                                        print(f\"This product doesn't have enough stock available. Available stock: {inventory[product_name]}\")\n",
    "                                    else:\n",
    "                                        customer_orders[product_name] = quantity\n",
    "                                        valid_quantity = True\n",
    "                                except ValueError:\n",
    "                                    print(\"Invalid input. Please enter a valid quantity.\")\n",
    "                        else:\n",
    "                            print(\"This product doesn't have any stock available. Please enter a product which has stock available.\")\n",
    "                    else:\n",
    "                        print(\"This product is not in the inventory. Please enter a valid product name.\")\n",
    "        except ValueError:\n",
    "            print(\"Invalid input. Please enter a valid number of orders.\")\n",
    "            continue  # Restart the loop if the input for num_orders is invalid\n",
    "        else:\n",
    "            return customer_orders"
   ]
  },
  {
   "cell_type": "markdown",
   "id": "a1455df4",
   "metadata": {},
   "source": [
    "4. Test your code by running the program and deliberately entering invalid quantities and product names. Make sure the error handling mechanism works as expected."
   ]
  },
  {
   "cell_type": "code",
   "execution_count": 34,
   "id": "58e99535",
   "metadata": {},
   "outputs": [
    {
     "name": "stdout",
     "output_type": "stream",
     "text": [
      "Enter the number of customer orders: 2\n",
      "Enter the name of a product that a customer wants to order: chair\n",
      "This product is not in the inventory. Please enter a valid product name.\n",
      "Enter the name of a product that a customer wants to order: keychain\n",
      "This product is not in the inventory. Please enter a valid product name.\n",
      "Enter the name of a product that a customer wants to order: hat\n",
      "Enter the quantity of hat the customer wants to order: -2\n",
      "Quantity cannot be negative. Please enter a valid quantity.\n",
      "Enter the quantity of hat the customer wants to order: 3\n",
      "Enter the name of a product that a customer wants to order: book\n",
      "Enter the quantity of book the customer wants to order: 4\n",
      "This product doesn't have enough stock available. Available stock: 2\n",
      "Enter the quantity of book the customer wants to order: 2\n",
      "\n",
      "\n",
      "Enter the price of the hat : good morning\n",
      "Invalid input. Please enter a valid price.\n",
      "Enter the price of the hat : -5\n",
      "Quantity cannot be negative. Please enter a valid price.\n",
      "Enter the price of the hat : 10\n",
      "Enter the price of the book : hello\n",
      "Invalid input. Please enter a valid price.\n",
      "Enter the price of the book : -9\n",
      "Quantity cannot be negative. Please enter a valid price.\n",
      "Enter the price of the book : 5\n",
      "Total Price: 15.0\n",
      "\n",
      "\n"
     ]
    }
   ],
   "source": [
    "# get customer orders with error handling\n",
    "customer_orders = get_customer_orders(inventory)\n",
    "print('\\n')\n",
    "\n",
    "# calculate total price with error handling\n",
    "total_price = calculate_total_price(customer_orders)\n",
    "print(f\"Total Price:\", total_price)\n",
    "print('\\n')"
   ]
  }
 ],
 "metadata": {
  "kernelspec": {
   "display_name": "Python 3 (ipykernel)",
   "language": "python",
   "name": "python3"
  },
  "language_info": {
   "codemirror_mode": {
    "name": "ipython",
    "version": 3
   },
   "file_extension": ".py",
   "mimetype": "text/x-python",
   "name": "python",
   "nbconvert_exporter": "python",
   "pygments_lexer": "ipython3",
   "version": "3.11.5"
  }
 },
 "nbformat": 4,
 "nbformat_minor": 5
}
